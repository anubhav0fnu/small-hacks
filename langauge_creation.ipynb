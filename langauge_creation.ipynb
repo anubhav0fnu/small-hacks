{
 "cells": [
  {
   "cell_type": "code",
   "execution_count": 32,
   "metadata": {},
   "outputs": [
    {
     "name": "stdout",
     "output_type": "stream",
     "text": [
      "78\n",
      "67\n",
      "104\n"
     ]
    }
   ],
   "source": [
    "ArkhamLanguageTitle=[\n",
    "    \"Russian\", \n",
    "    \"Ukrainian\", \n",
    "    \"Hebrew\", \n",
    "    \"English\", \n",
    "    \"French\", \n",
    "    \"Korean\", \n",
    "    \"Chinese_simplified\", \n",
    "    \"Polish\", \n",
    "    \"Spanish\", \n",
    "    \"Romanian\", \n",
    "    \"Portuguese\", \n",
    "    \"Chinese_traditional\", \n",
    "    \"Hungarian\", \n",
    "    \"Hindi\", \n",
    "    \"Tamil\", \n",
    "    \"Italian\", \n",
    "    \"Turkish\", \n",
    "    \"Thai\", \n",
    "    \"Arabic\", \n",
    "    \"Bulgarian\", \n",
    "    \"Bengali\", \n",
    "    \"Dutch\", \n",
    "    \"German\", \n",
    "    \"Czech\", \n",
    "    \"Slovak\", \n",
    "    \"Lithuanian\", \n",
    "    \"Indonesian\", \n",
    "    \"Icelandic\", \n",
    "    \"Javanese\", \n",
    "    \"unknown\", \n",
    "    \"Afrikaans\", \n",
    "    \"Vietnamese\", \n",
    "    \"Finnish\", \n",
    "    \"Catalan\", \n",
    "    \"Greek\", \n",
    "    \"Macedonian\", \n",
    "    \"Latvian\", \n",
    "    \"Swedish\", \n",
    "    \"Persian\", \n",
    "    \"Japanese\", \n",
    "    \"Georgian_Romanized\", \n",
    "    \"Urdu\", \n",
    "    \"Malagasy\", \n",
    "    \"Croatian\", \n",
    "    \"Bengali_Romanized\", \n",
    "    \"Estonian\", \n",
    "    \"Norwegian\", \n",
    "    \"Kurdish_Sorani\", \n",
    "    \"Cebuano\", \n",
    "    \"Latin\", \n",
    "    \"Danish\", \n",
    "    \"Tetum\", \n",
    "    \"Turkmen\", \n",
    "    \"Serbian_Cyrillic\", \n",
    "    \"Azeri\", \n",
    "    \"Somali\", \n",
    "    \"Slovene\", \n",
    "    \"Basque\", \n",
    "    \"Swahili\", \n",
    "    \"Shona\", \n",
    "    \"Albanian\", \n",
    "    \"Uzbek_Cyrillic\", \n",
    "    \"Kyrgyz\", \n",
    "    \"Hausa\", \n",
    "    \"Uzbek_Romanized\", \n",
    "    \"Kurdish_Kurmanji\", \n",
    "    \"Hmong\", \n",
    "    \"Belarusian\", \n",
    "    \"Haitian_Creole\", \n",
    "    \"Tok_Pisin\", \n",
    "    \"Maguindanaon\", \n",
    "    \"Ilocano\", \n",
    "    \"Tagalog\", \n",
    "    \"Baluchi\", \n",
    "    \"Tajik\", \n",
    "    \"Pashto\", \n",
    "    \"Kazakh\", \n",
    "    \"Armenian\"\n",
    "]\n",
    "ArkhamLanguageDescription=[\n",
    "    \"Russian\", \n",
    "    \"Ukrainian\", \n",
    "    \"Hebrew\", \n",
    "    \"English\", \n",
    "    \"French\", \n",
    "    \"Korean\", \n",
    "    \"Chinese_simplified\", \n",
    "    \"Polish\", \n",
    "    \"Spanish\", \n",
    "    \"Romanian\", \n",
    "    \"Chinese_traditional\", \n",
    "    \"Hungarian\", \n",
    "    \"Hindi\", \n",
    "    \"Tamil\", \n",
    "    \"Italian\", \n",
    "    \"Turkish\", \n",
    "    \"Thai\", \n",
    "    \"Arabic\", \n",
    "    \"Bulgarian\", \n",
    "    \"Portuguese\", \n",
    "    \"Bengali\", \n",
    "    \"Dutch\", \n",
    "    \"German\", \n",
    "    \"Czech\", \n",
    "    \"Lithuanian\", \n",
    "    \"Indonesian\", \n",
    "    \"Javanese\", \n",
    "    \"Afrikaans\", \n",
    "    \"unknown\", \n",
    "    \"Vietnamese\", \n",
    "    \"Finnish\", \n",
    "    \"Greek\", \n",
    "    \"Swedish\", \n",
    "    \"Persian\", \n",
    "    \"Japanese\", \n",
    "    \"Croatian\", \n",
    "    \"Bengali_Romanized\", \n",
    "    \"Latvian\", \n",
    "    \"Norwegian\", \n",
    "    \"Danish\", \n",
    "    \"Estonian\", \n",
    "    \"Slovak\", \n",
    "    \"Belarusian\", \n",
    "    \"Tagalog\", \n",
    "    \"Serbian_Cyrillic\", \n",
    "    \"Somali\", \n",
    "    \"Slovene\", \n",
    "    \"Catalan\", \n",
    "    \"Kurdish_Kurmanji\", \n",
    "    \"Basque\", \n",
    "    \"Kyrgyz\", \n",
    "    \"Urdu\", \n",
    "    \"Swahili\", \n",
    "    \"Hausa\", \n",
    "    \"Tetum\", \n",
    "    \"Georgian_Romanized\", \n",
    "    \"Cebuano\", \n",
    "    \"Latin\", \n",
    "    \"Turkmen\", \n",
    "    \"Shona\", \n",
    "    \"Macedonian\", \n",
    "    \"Albanian\", \n",
    "    \"Malagasy\", \n",
    "    \"Armenian\", \n",
    "    \"Uzbek_Romanized\", \n",
    "    \"Tok_Pisin\", \n",
    "    \"Icelandic\"\n",
    "]\n",
    "Language=[\n",
    "    \"English\", \n",
    "    \"Spanish\", \n",
    "    \"Portuguese\", \n",
    "    \"Swedish\", \n",
    "    \"Italian\", \n",
    "    \"French\", \n",
    "    \"Latvian\", \n",
    "    \"Turkish\", \n",
    "    \"Russian\", \n",
    "    \"Norwegian\", \n",
    "    \"Dutch\", \n",
    "    \"Indonesian\", \n",
    "    \"German\", \n",
    "    \"Romanian\", \n",
    "    \"Bulgarian\", \n",
    "    \"Chinese (Simplified)\", \n",
    "    \"Haitian Creole\", \n",
    "    \"Japanese\", \n",
    "    \"Persian\", \n",
    "    \"Chinese (Traditional)\", \n",
    "    \"Korean\", \n",
    "    \"Hindi\", \n",
    "    \"Finnish\", \n",
    "    \"Czech\", \n",
    "    \"Malay\", \n",
    "    \"Estonian\", \n",
    "    \"Javanese\", \n",
    "    \"Vietnamese\", \n",
    "    \"Polish\", \n",
    "    \"Telugu\", \n",
    "    \"Catalan\", \n",
    "    \"Galician\", \n",
    "    \"Greek\", \n",
    "    \"Danish\", \n",
    "    \"Latin\", \n",
    "    \"Slovak\", \n",
    "    \"Hungarian\", \n",
    "    \"Corsican\", \n",
    "    \"Filipino\", \n",
    "    \"Hebrew\", \n",
    "    \"Frisian\", \n",
    "    \"Lithuanian\", \n",
    "    \"Basque\", \n",
    "    \"Bosnian\", \n",
    "    \"Tamil\", \n",
    "    \"Bengali\", \n",
    "    \"Marathi\", \n",
    "    \"Icelandic\", \n",
    "    \"Slovenian\", \n",
    "    \"Thai\", \n",
    "    \"Croatian\", \n",
    "    \"Arabic\", \n",
    "    \"Georgian\", \n",
    "    \"Nepali\", \n",
    "    \"Gujarati\", \n",
    "    \"Hausa\", \n",
    "    \"Malagasy\", \n",
    "    \"Mongolian\", \n",
    "    \"Afrikaans\", \n",
    "    \"Sundanese\", \n",
    "    \"Kannada\", \n",
    "    \"Ukrainian\", \n",
    "    \"Cebuano\", \n",
    "    \"Somali\", \n",
    "    \"Welsh\", \n",
    "    \"Swahili\", \n",
    "    \"Uzbek\", \n",
    "    \"Serbian\", \n",
    "    \"Albanian\", \n",
    "    \"Belarusian\", \n",
    "    \"Maori\", \n",
    "    \"Zulu\", \n",
    "    \"Maltese\", \n",
    "    \"Scots Gaelic\", \n",
    "    \"Sesotho\", \n",
    "    \"Shona\", \n",
    "    \"Chichewa\", \n",
    "    \"Hmong\", \n",
    "    \"Macedonian\", \n",
    "    \"Azerbaijani\", \n",
    "    \"Igbo\", \n",
    "    \"Yoruba\", \n",
    "    \"Urdu\", \n",
    "    \"Malayalam\", \n",
    "    \"Hawaiian\", \n",
    "    \"Esperanto\", \n",
    "    \"Xhosa\", \n",
    "    \"Armenian\", \n",
    "    \"Tajik\", \n",
    "    \"Burmese\", \n",
    "    \"Luxembourgish\", \n",
    "    \"Amharic\", \n",
    "    \"Kurdish\", \n",
    "    \"Cambodian\", \n",
    "    \"Irish\", \n",
    "    \"Pashto\", \n",
    "    \"Kyrgyz\", \n",
    "    \"Samoan\", \n",
    "    \"Yiddish\", \n",
    "    \"Sinhalese\", \n",
    "    \"Kazakh\", \n",
    "    \"Sindhi\", \n",
    "    \"Punjabi\", \n",
    "    \"Not Translated\"\n",
    "]\n",
    "print(len(ArkhamLanguageTitle))\n",
    "print(len(ArkhamLanguageDescription))\n",
    "print(len(Language))"
   ]
  },
  {
   "cell_type": "code",
   "execution_count": null,
   "metadata": {
    "collapsed": true
   },
   "outputs": [],
   "source": []
  },
  {
   "cell_type": "code",
   "execution_count": 33,
   "metadata": {},
   "outputs": [
    {
     "name": "stdout",
     "output_type": "stream",
     "text": [
      "These are the lanaguges to be present in Langauges feild but not in other.\n",
      "['Russian', 'Ukrainian', 'Hebrew', 'English', 'French', 'Korean', 'Chinese_simplified', 'Polish', 'Spanish', 'Romanian', 'Portuguese', 'Chinese_traditional', 'Hungarian', 'Hindi', 'Tamil', 'Italian', 'Turkish', 'Thai', 'Arabic', 'Bulgarian', 'Bengali', 'Dutch', 'German', 'Czech', 'Slovak', 'Lithuanian', 'Indonesian', 'Icelandic', 'Javanese', 'unknown', 'Afrikaans', 'Vietnamese', 'Finnish', 'Catalan', 'Greek', 'Macedonian', 'Latvian', 'Swedish', 'Persian', 'Japanese', 'Georgian_Romanized', 'Urdu', 'Malagasy', 'Croatian', 'Bengali_Romanized', 'Estonian', 'Norwegian', 'Kurdish_Sorani', 'Cebuano', 'Latin', 'Danish', 'Tetum', 'Turkmen', 'Serbian_Cyrillic', 'Azeri', 'Somali', 'Slovene', 'Basque', 'Swahili', 'Shona', 'Albanian', 'Uzbek_Cyrillic', 'Kyrgyz', 'Hausa', 'Uzbek_Romanized', 'Kurdish_Kurmanji', 'Hmong', 'Belarusian', 'Haitian_Creole', 'Tok_Pisin', 'Maguindanaon', 'Ilocano', 'Tagalog', 'Baluchi', 'Tajik', 'Pashto', 'Kazakh', 'Armenian'] \n",
      "\n",
      " ['Chinese (Simplified)', 'Haitian Creole', 'Chinese (Traditional)', 'Malay', 'Telugu', 'Galician', 'Corsican', 'Filipino', 'Frisian', 'Bosnian', 'Marathi', 'Slovenian', 'Georgian', 'Nepali', 'Gujarati', 'Mongolian', 'Sundanese', 'Kannada', 'Welsh', 'Uzbek', 'Serbian', 'Maori', 'Zulu', 'Maltese', 'Scots Gaelic', 'Sesotho', 'Chichewa', 'Hmong', 'Azerbaijani', 'Igbo', 'Yoruba', 'Malayalam', 'Hawaiian', 'Esperanto', 'Xhosa', 'Tajik', 'Burmese', 'Luxembourgish', 'Amharic', 'Kurdish', 'Cambodian', 'Irish', 'Pashto', 'Samoan', 'Yiddish', 'Sinhalese', 'Kazakh', 'Sindhi', 'Punjabi', 'Not Translated']\n"
     ]
    }
   ],
   "source": [
    "notIN_ArkhamLanguageTitle=[]\n",
    "notIN_ArkhamLanguageDescription=[]\n",
    "\n",
    "for i in Language:\n",
    "    if i not in ArkhamLanguageTitle:\n",
    "        notIN_ArkhamLanguageTitle.append(i)\n",
    "    if i not in ArkhamLanguageDescription:\n",
    "        notIN_ArkhamLanguageDescription.append(i)\n",
    "print('These are the lanaguges to be present in Langauges feild but not in other.')\n",
    "print(ArkhamLanguageTitle,'\\n\\n',notIN_ArkhamLanguageDescription)"
   ]
  },
  {
   "cell_type": "code",
   "execution_count": 34,
   "metadata": {},
   "outputs": [
    {
     "name": "stdout",
     "output_type": "stream",
     "text": [
      "These are the lanaguges to be present in Langauges feild but not in other.\n",
      "['Chinese_simplified', 'Chinese_traditional', 'unknown', 'Georgian_Romanized', 'Bengali_Romanized', 'Kurdish_Sorani', 'Tetum', 'Turkmen', 'Serbian_Cyrillic', 'Azeri', 'Slovene', 'Uzbek_Cyrillic', 'Uzbek_Romanized', 'Kurdish_Kurmanji', 'Haitian_Creole', 'Tok_Pisin', 'Maguindanaon', 'Ilocano', 'Tagalog', 'Baluchi']\n"
     ]
    },
    {
     "data": {
      "text/plain": [
       "20"
      ]
     },
     "execution_count": 34,
     "metadata": {},
     "output_type": "execute_result"
    }
   ],
   "source": [
    "new=[]\n",
    "for i in ArkhamLanguageTitle:\n",
    "    if i not in Language:\n",
    "        new.append(i)\n",
    "#     if i not in ArkhamLanguageDescription:\n",
    "#         notIN_ArkhamLanguageDescription.append(i)\n",
    "print('These are the lanaguges to be present in Langauges feild but not in other.')\n",
    "print(new)\n",
    "len(new)"
   ]
  },
  {
   "cell_type": "code",
   "execution_count": 35,
   "metadata": {},
   "outputs": [
    {
     "name": "stdout",
     "output_type": "stream",
     "text": [
      "These are the lanaguges to be present in Langauges feild but not in other.\n",
      "['Chinese_simplified', 'Chinese_traditional', 'unknown', 'Bengali_Romanized', 'Tagalog', 'Serbian_Cyrillic', 'Slovene', 'Kurdish_Kurmanji', 'Tetum', 'Georgian_Romanized', 'Turkmen', 'Uzbek_Romanized', 'Tok_Pisin']\n"
     ]
    },
    {
     "data": {
      "text/plain": [
       "13"
      ]
     },
     "execution_count": 35,
     "metadata": {},
     "output_type": "execute_result"
    }
   ],
   "source": [
    "new1=[]\n",
    "for i in ArkhamLanguageDescription:\n",
    "    if i not in Language:\n",
    "        new1.append(i)\n",
    "#     if i not in ArkhamLanguageDescription:\n",
    "#         notIN_ArkhamLanguageDescription.append(i)\n",
    "print('These are the lanaguges to be present in Langauges feild but not in other.')\n",
    "print(new1)\n",
    "len(new1)"
   ]
  },
  {
   "cell_type": "code",
   "execution_count": 36,
   "metadata": {},
   "outputs": [
    {
     "data": {
      "text/plain": [
       "137"
      ]
     },
     "execution_count": 36,
     "metadata": {},
     "output_type": "execute_result"
    }
   ],
   "source": [
    "# append new & new1 to Langauage\n",
    "final= Language+new+new1\n",
    "len(final)"
   ]
  },
  {
   "cell_type": "code",
   "execution_count": 37,
   "metadata": {},
   "outputs": [
    {
     "ename": "NameError",
     "evalue": "name 'unknown' is not defined",
     "output_type": "error",
     "traceback": [
      "\u001b[0;31m---------------------------------------------------------------------------\u001b[0m",
      "\u001b[0;31mNameError\u001b[0m                                 Traceback (most recent call last)",
      "\u001b[0;32m<ipython-input-37-f6ffd074c614>\u001b[0m in \u001b[0;36m<module>\u001b[0;34m()\u001b[0m\n\u001b[1;32m      1\u001b[0m \u001b[0;32mfrom\u001b[0m \u001b[0mre\u001b[0m \u001b[0;32mimport\u001b[0m \u001b[0mmatch\u001b[0m\u001b[0;34m\u001b[0m\u001b[0m\n\u001b[0;32m----> 2\u001b[0;31m \u001b[0munknown\u001b[0m\u001b[0;34m\u001b[0m\u001b[0m\n\u001b[0m\u001b[1;32m      3\u001b[0m \u001b[0mindeces\u001b[0m \u001b[0;34m=\u001b[0m \u001b[0;34m(\u001b[0m\u001b[0mi\u001b[0m \u001b[0;32mfor\u001b[0m \u001b[0mi\u001b[0m\u001b[0;34m,\u001b[0m\u001b[0mval\u001b[0m \u001b[0;32min\u001b[0m \u001b[0menumerate\u001b[0m\u001b[0;34m(\u001b[0m\u001b[0mfinal\u001b[0m\u001b[0;34m)\u001b[0m \u001b[0;32mif\u001b[0m \u001b[0mmatch\u001b[0m\u001b[0;34m(\u001b[0m\u001b[0;34m'Chinese'\u001b[0m\u001b[0;34m,\u001b[0m \u001b[0mval\u001b[0m\u001b[0;34m)\u001b[0m\u001b[0;34m)\u001b[0m\u001b[0;34m\u001b[0m\u001b[0m\n",
      "\u001b[0;31mNameError\u001b[0m: name 'unknown' is not defined"
     ]
    }
   ],
   "source": [
    "from re import match\n",
    "# unknown\n",
    "indeces = (i for i,val in enumerate(final) if match('Chinese', val))"
   ]
  },
  {
   "cell_type": "code",
   "execution_count": 38,
   "metadata": {},
   "outputs": [
    {
     "name": "stdout",
     "output_type": "stream",
     "text": [
      "53\n"
     ]
    },
    {
     "ename": "KeyError",
     "evalue": "'alpha_2'",
     "output_type": "error",
     "traceback": [
      "\u001b[0;31m---------------------------------------------------------------------------\u001b[0m",
      "\u001b[0;31mKeyError\u001b[0m                                  Traceback (most recent call last)",
      "\u001b[0;32m<ipython-input-38-069d211a160c>\u001b[0m in \u001b[0;36m<module>\u001b[0;34m()\u001b[0m\n\u001b[1;32m      8\u001b[0m \u001b[0;34m\u001b[0m\u001b[0m\n\u001b[1;32m      9\u001b[0m \u001b[0;32mfor\u001b[0m \u001b[0mlangs\u001b[0m \u001b[0;32min\u001b[0m \u001b[0mLanguage_ISO_639_3\u001b[0m\u001b[0;34m:\u001b[0m\u001b[0;34m\u001b[0m\u001b[0m\n\u001b[0;32m---> 10\u001b[0;31m     \u001b[0mLanguage_name\u001b[0m\u001b[0;34m.\u001b[0m\u001b[0mappend\u001b[0m\u001b[0;34m(\u001b[0m\u001b[0mlangRecognizer\u001b[0m\u001b[0;34m.\u001b[0m\u001b[0mlanguages\u001b[0m\u001b[0;34m.\u001b[0m\u001b[0mget\u001b[0m\u001b[0;34m(\u001b[0m\u001b[0malpha_2\u001b[0m\u001b[0;34m=\u001b[0m\u001b[0mlangs\u001b[0m\u001b[0;34m)\u001b[0m\u001b[0;34m.\u001b[0m\u001b[0mname\u001b[0m\u001b[0;34m)\u001b[0m\u001b[0;34m\u001b[0m\u001b[0m\n\u001b[0m\u001b[1;32m     11\u001b[0m     \u001b[0mLanguage_common_name\u001b[0m\u001b[0;34m.\u001b[0m\u001b[0mappend\u001b[0m\u001b[0;34m(\u001b[0m\u001b[0mlangRecognizer\u001b[0m\u001b[0;34m.\u001b[0m\u001b[0mlanguages\u001b[0m\u001b[0;34m.\u001b[0m\u001b[0mget\u001b[0m\u001b[0;34m(\u001b[0m\u001b[0malpha_2\u001b[0m\u001b[0;34m=\u001b[0m\u001b[0mlangs\u001b[0m\u001b[0;34m)\u001b[0m\u001b[0;34m.\u001b[0m\u001b[0mcommon_name\u001b[0m\u001b[0;34m)\u001b[0m\u001b[0;34m\u001b[0m\u001b[0m\n\u001b[1;32m     12\u001b[0m \u001b[0;34m\u001b[0m\u001b[0m\n",
      "\u001b[0;32m/Applications/anaconda3/lib/python3.6/site-packages/pycountry/db.py\u001b[0m in \u001b[0;36mget\u001b[0;34m(self, **kw)\u001b[0m\n\u001b[1;32m    112\u001b[0m         \u001b[0;32massert\u001b[0m \u001b[0mlen\u001b[0m\u001b[0;34m(\u001b[0m\u001b[0mkw\u001b[0m\u001b[0;34m)\u001b[0m \u001b[0;34m==\u001b[0m \u001b[0;36m1\u001b[0m\u001b[0;34m,\u001b[0m \u001b[0;34m'Only one criteria may be given.'\u001b[0m\u001b[0;34m\u001b[0m\u001b[0m\n\u001b[1;32m    113\u001b[0m         \u001b[0mfield\u001b[0m\u001b[0;34m,\u001b[0m \u001b[0mvalue\u001b[0m \u001b[0;34m=\u001b[0m \u001b[0mkw\u001b[0m\u001b[0;34m.\u001b[0m\u001b[0mpopitem\u001b[0m\u001b[0;34m(\u001b[0m\u001b[0;34m)\u001b[0m\u001b[0;34m\u001b[0m\u001b[0m\n\u001b[0;32m--> 114\u001b[0;31m         \u001b[0;32mreturn\u001b[0m \u001b[0mself\u001b[0m\u001b[0;34m.\u001b[0m\u001b[0mindices\u001b[0m\u001b[0;34m[\u001b[0m\u001b[0mfield\u001b[0m\u001b[0;34m]\u001b[0m\u001b[0;34m[\u001b[0m\u001b[0mvalue\u001b[0m\u001b[0;34m]\u001b[0m\u001b[0;34m\u001b[0m\u001b[0m\n\u001b[0m",
      "\u001b[0;31mKeyError\u001b[0m: 'alpha_2'"
     ]
    }
   ],
   "source": [
    "# currently, langdetect has 56 langauges, I am gonna add to it more\n",
    "Language_ISO_639_3=['af','ar','bg','bn','ca','cs','cy','da','de','el','en','es','et','fa','fi','fr','gu','he,\\\n",
    "hi','hr','hu','id','it','ja','kn','ko','lt','lv','mk','ml','mr','ne','nl','no','pa','pl,\\\n",
    "pt','ro','ru','sk','sl','so','sq','sv','sw','ta','te','th','tl','tr','uk','ur','vi','zh-cn','zh-tw']\n",
    "print(len(Language_ISO_639_3))\n",
    "Language_name=[]\n",
    "Language_common_name=[]\n",
    "\n",
    "import pycountry as langRecognizer\n",
    "\n",
    "for langs in Language_ISO_639_3:\n",
    "    Language_name.append(langRecognizer.languages.get(alpha_2=langs).name)\n",
    "    Language_common_name.append(langRecognizer.languages.get(alpha_2=langs).common_name)\n",
    "\n",
    "pritn(len(Language_name))\n",
    "pritn(len(Language_common_name))"
   ]
  },
  {
   "cell_type": "code",
   "execution_count": 51,
   "metadata": {},
   "outputs": [
    {
     "ename": "KeyError",
     "evalue": "'alpha_2'",
     "output_type": "error",
     "traceback": [
      "\u001b[0;31m---------------------------------------------------------------------------\u001b[0m",
      "\u001b[0;31mKeyError\u001b[0m                                  Traceback (most recent call last)",
      "\u001b[0;32m<ipython-input-51-7bd769402b3a>\u001b[0m in \u001b[0;36m<module>\u001b[0;34m()\u001b[0m\n\u001b[1;32m      1\u001b[0m \u001b[0;32mimport\u001b[0m \u001b[0mpycountry\u001b[0m\u001b[0;34m\u001b[0m\u001b[0m\n\u001b[1;32m      2\u001b[0m \u001b[0;34m\u001b[0m\u001b[0m\n\u001b[0;32m----> 3\u001b[0;31m \u001b[0maragonese\u001b[0m \u001b[0;34m=\u001b[0m \u001b[0mpycountry\u001b[0m\u001b[0;34m.\u001b[0m\u001b[0mlanguages\u001b[0m\u001b[0;34m.\u001b[0m\u001b[0mget\u001b[0m\u001b[0;34m(\u001b[0m\u001b[0malpha_2\u001b[0m\u001b[0;34m=\u001b[0m\u001b[0;34m'an'\u001b[0m\u001b[0;34m)\u001b[0m\u001b[0;34m\u001b[0m\u001b[0m\n\u001b[0m\u001b[1;32m      4\u001b[0m \u001b[0maragonese\u001b[0m\u001b[0;34m.\u001b[0m\u001b[0malpha_2\u001b[0m\u001b[0;34m\u001b[0m\u001b[0m\n",
      "\u001b[0;32m/Applications/anaconda3/lib/python3.6/site-packages/pycountry/db.py\u001b[0m in \u001b[0;36mget\u001b[0;34m(self, **kw)\u001b[0m\n\u001b[1;32m    112\u001b[0m         \u001b[0;32massert\u001b[0m \u001b[0mlen\u001b[0m\u001b[0;34m(\u001b[0m\u001b[0mkw\u001b[0m\u001b[0;34m)\u001b[0m \u001b[0;34m==\u001b[0m \u001b[0;36m1\u001b[0m\u001b[0;34m,\u001b[0m \u001b[0;34m'Only one criteria may be given.'\u001b[0m\u001b[0;34m\u001b[0m\u001b[0m\n\u001b[1;32m    113\u001b[0m         \u001b[0mfield\u001b[0m\u001b[0;34m,\u001b[0m \u001b[0mvalue\u001b[0m \u001b[0;34m=\u001b[0m \u001b[0mkw\u001b[0m\u001b[0;34m.\u001b[0m\u001b[0mpopitem\u001b[0m\u001b[0;34m(\u001b[0m\u001b[0;34m)\u001b[0m\u001b[0;34m\u001b[0m\u001b[0m\n\u001b[0;32m--> 114\u001b[0;31m         \u001b[0;32mreturn\u001b[0m \u001b[0mself\u001b[0m\u001b[0;34m.\u001b[0m\u001b[0mindices\u001b[0m\u001b[0;34m[\u001b[0m\u001b[0mfield\u001b[0m\u001b[0;34m]\u001b[0m\u001b[0;34m[\u001b[0m\u001b[0mvalue\u001b[0m\u001b[0;34m]\u001b[0m\u001b[0;34m\u001b[0m\u001b[0m\n\u001b[0m",
      "\u001b[0;31mKeyError\u001b[0m: 'alpha_2'"
     ]
    }
   ],
   "source": []
  },
  {
   "cell_type": "code",
   "execution_count": 50,
   "metadata": {},
   "outputs": [
    {
     "ename": "KeyError",
     "evalue": "'id'",
     "output_type": "error",
     "traceback": [
      "\u001b[0;31m---------------------------------------------------------------------------\u001b[0m",
      "\u001b[0;31mKeyError\u001b[0m                                  Traceback (most recent call last)",
      "\u001b[0;32m<ipython-input-50-e6ec3abd88f3>\u001b[0m in \u001b[0;36m<module>\u001b[0;34m()\u001b[0m\n\u001b[0;32m----> 1\u001b[0;31m \u001b[0mbengali\u001b[0m \u001b[0;34m=\u001b[0m \u001b[0mpycountry\u001b[0m\u001b[0;34m.\u001b[0m\u001b[0mlanguages\u001b[0m\u001b[0;34m.\u001b[0m\u001b[0mget\u001b[0m\u001b[0;34m(\u001b[0m\u001b[0mid\u001b[0m\u001b[0;34m=\u001b[0m\u001b[0;34m'bn'\u001b[0m\u001b[0;34m)\u001b[0m\u001b[0;34m\u001b[0m\u001b[0m\n\u001b[0m",
      "\u001b[0;32m/Applications/anaconda3/lib/python3.6/site-packages/pycountry/db.py\u001b[0m in \u001b[0;36mget\u001b[0;34m(self, **kw)\u001b[0m\n\u001b[1;32m    112\u001b[0m         \u001b[0;32massert\u001b[0m \u001b[0mlen\u001b[0m\u001b[0;34m(\u001b[0m\u001b[0mkw\u001b[0m\u001b[0;34m)\u001b[0m \u001b[0;34m==\u001b[0m \u001b[0;36m1\u001b[0m\u001b[0;34m,\u001b[0m \u001b[0;34m'Only one criteria may be given.'\u001b[0m\u001b[0;34m\u001b[0m\u001b[0m\n\u001b[1;32m    113\u001b[0m         \u001b[0mfield\u001b[0m\u001b[0;34m,\u001b[0m \u001b[0mvalue\u001b[0m \u001b[0;34m=\u001b[0m \u001b[0mkw\u001b[0m\u001b[0;34m.\u001b[0m\u001b[0mpopitem\u001b[0m\u001b[0;34m(\u001b[0m\u001b[0;34m)\u001b[0m\u001b[0;34m\u001b[0m\u001b[0m\n\u001b[0;32m--> 114\u001b[0;31m         \u001b[0;32mreturn\u001b[0m \u001b[0mself\u001b[0m\u001b[0;34m.\u001b[0m\u001b[0mindices\u001b[0m\u001b[0;34m[\u001b[0m\u001b[0mfield\u001b[0m\u001b[0;34m]\u001b[0m\u001b[0;34m[\u001b[0m\u001b[0mvalue\u001b[0m\u001b[0;34m]\u001b[0m\u001b[0;34m\u001b[0m\u001b[0m\n\u001b[0m",
      "\u001b[0;31mKeyError\u001b[0m: 'id'"
     ]
    }
   ],
   "source": []
  },
  {
   "cell_type": "code",
   "execution_count": 52,
   "metadata": {},
   "outputs": [
    {
     "ename": "SyntaxError",
     "evalue": "invalid syntax (<ipython-input-52-5841af25c604>, line 1)",
     "output_type": "error",
     "traceback": [
      "\u001b[0;36m  File \u001b[0;32m\"<ipython-input-52-5841af25c604>\"\u001b[0;36m, line \u001b[0;32m1\u001b[0m\n\u001b[0;31m    try\u001b[0m\n\u001b[0m       ^\u001b[0m\n\u001b[0;31mSyntaxError\u001b[0m\u001b[0;31m:\u001b[0m invalid syntax\n"
     ]
    }
   ],
   "source": [
    "try\n",
    "https://stackoverflow.com/questions/5331266/python-easiest-way-to-scrape-text-from-list-of-urls-using-beautifulsoup"
   ]
  },
  {
   "cell_type": "code",
   "execution_count": null,
   "metadata": {
    "collapsed": true
   },
   "outputs": [],
   "source": [
    "http://www.bogotobogo.com/python/NLTK/tf_idf_with_scikit-learn_NLTK.php\n",
    "https://pythonspot.com/en/nltk-stop-words/\n",
    "    "
   ]
  }
 ],
 "metadata": {
  "kernelspec": {
   "display_name": "Python 3",
   "language": "python",
   "name": "python3"
  },
  "language_info": {
   "codemirror_mode": {
    "name": "ipython",
    "version": 3
   },
   "file_extension": ".py",
   "mimetype": "text/x-python",
   "name": "python",
   "nbconvert_exporter": "python",
   "pygments_lexer": "ipython3",
   "version": "3.6.2"
  }
 },
 "nbformat": 4,
 "nbformat_minor": 2
}
